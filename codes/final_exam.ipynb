{
 "cells": [
  {
   "attachments": {},
   "cell_type": "markdown",
   "metadata": {},
   "source": [
    "## 데이터분석 1 기말고사"
   ]
  },
  {
   "attachments": {},
   "cell_type": "markdown",
   "metadata": {},
   "source": [
    "한 학기 애썼습니다.\n",
    "기말 개인과제와 기말고사를 통해 분석에 대한 자신감을 갖고, 각자에게 필요한 작업을 보고서든 논문이든 혹은 회사일이든 잘 해결해 낼 수 있기를 바랍니다.\n",
    "\n",
    "기말고사는 단답형 5점(1점 X 5문항 = 5점)와 분석형 10점(2개의 데이터셋)으로 구성됩니다.\n",
    "절대평가이니 각자의 실력을 잘 발휘하기 바랍니다."
   ]
  },
  {
   "attachments": {},
   "cell_type": "markdown",
   "metadata": {},
   "source": [
    "### 단답형(각 1점 X 5 = 5점)"
   ]
  },
  {
   "attachments": {},
   "cell_type": "markdown",
   "metadata": {},
   "source": [
    "1. 판다스 데이터프레임의 특정한 조건을 갖춘 행만 추려내는 명령어는?\n",
    "2. 데이터프레임의 '~변수'에 따라 '~값'을 추출하는 명령어 조합은?\n",
    "3. 'korean', 'english', 'math' 세 가지 변수의 이름을 '국어', '영어', '수학'으로 바꾸려 합니다. 어떤 명령어를 어떻게 써야 하나요?\n",
    "4. mpg 데이터의 displ 변수와 hwy 변수를 가지고 산점도를 그리는 방법은?\n",
    "5. mtcars 변수 모두의 상관계수를 확인하는 방법은?"
   ]
  },
  {
   "attachments": {},
   "cell_type": "markdown",
   "metadata": {},
   "source": [
    "### 분석형 1. 텍스트 마이닝(5점)"
   ]
  },
  {
   "attachments": {},
   "cell_type": "markdown",
   "metadata": {},
   "source": [
    "1. \"윤석열_연설문.txt\" 파일을 불러와서, \n",
    "2. 글자를 정제하고,\n",
    "3. 명사를 추출해,\n",
    "4. 가장 많은 빈도로 등장하는 명사 top20를 뽑아서 막대그래프로 그리고\n",
    "5. 전체 빈도 값을 활용해 wordcloud를 그려보세요."
   ]
  },
  {
   "attachments": {},
   "cell_type": "markdown",
   "metadata": {},
   "source": [
    "### 분석형 2. 월드컵 데이터 분석(5점)\n",
    "\n",
    "준비\n",
    "1. kaggle에 접속해서 ( https://www.kaggle.com/datasets/swaptr/fifa-world-cup-2022-statistics )\n",
    " worldcup dataset 2022 데이터셋의 'player_stats'와 'team_stats'을 다운받고,\n",
    "2. 각각 불러옵니다."
   ]
  },
  {
   "attachments": {},
   "cell_type": "markdown",
   "metadata": {},
   "source": [
    "분석\n",
    "\n",
    "1) player_stats (3점)\n",
    "1-1. 전체의 평균 연령을 구해보세요. (* birth_year 할용)\n",
    "1-2. 각 팀별 연령 분포를 boxplot으로 그려보세요.\n",
    "1-3. 각 포지션별 인원을 막대그래프로 그려보세요.\n",
    "1-4. 어떤 club(소속팀) 출신이 가장 많은지 그래프로 표현해 보세요.\n",
    "\n",
    "2) team_stats (2점)\n",
    "2-1. team, players_used, avg_age, possession, games, games_starts, minutes, goals, assists 변수만 선택하세요. \n",
    "2-2. 모든 변수의 상관관계를 히트맵으로 뽑아보세요. \n",
    "2-3. goal에 가장 영향을 많이 미치는 변수를 찾아보세요. \n"
   ]
  },
  {
   "attachments": {},
   "cell_type": "markdown",
   "metadata": {},
   "source": [
    "### 분석형 3. 알콜 소비량 데이터 (보너스 5점)\n",
    "https://www.kaggle.com/datasets/mattop/alcohol-consumption-per-capita-2016 에 접속해서 알콜 소비량 데이터를 받습니다.\n",
    "\n",
    "1. 2020_projection, 2025_projection 변수를 제외합니다.\n",
    "2. 전체 술 소비량 (total_consumption)에 어떤 변수가 가장 영향을 끼치는지 상관관계 분석을 통해 변수를 추려낸 후,\n",
    "3. 이를 토대로 2020, 2025년 한국의 술 소비량을 추측해 봅니다.\n",
    "\n",
    "설득력을 위해 그래프나 표를 활용해도 좋습니다."
   ]
  },
  {
   "cell_type": "markdown",
   "metadata": {},
   "source": []
  }
 ],
 "metadata": {
  "language_info": {
   "name": "python"
  },
  "orig_nbformat": 4
 },
 "nbformat": 4,
 "nbformat_minor": 2
}
